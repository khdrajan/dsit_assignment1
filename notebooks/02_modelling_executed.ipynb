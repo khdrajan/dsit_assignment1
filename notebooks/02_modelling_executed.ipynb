{
 "cells": [
  {
   "cell_type": "markdown",
   "id": "dbbfc557",
   "metadata": {},
   "source": [
    "\n",
    "# 02 — Modelling (Feature Engineering, Regression & Classification)\n",
    "\n",
    "**Goals**\n",
    "- Clean feature engineering for regression and classification.\n",
    "- Robust pipelines with cross‑validation and a held‑out test set.\n",
    "- Leakage‑free classification (rating features excluded from classification features).\n",
    "- Version‑safe metrics and exported artifacts.\n"
   ]
  },
  {
   "cell_type": "code",
   "execution_count": 1,
   "id": "b9bb84bb",
   "metadata": {
    "execution": {
     "iopub.execute_input": "2025-10-02T12:10:26.640556Z",
     "iopub.status.busy": "2025-10-02T12:10:26.640556Z",
     "iopub.status.idle": "2025-10-02T12:10:27.663047Z",
     "shell.execute_reply": "2025-10-02T12:10:27.663047Z"
    }
   },
   "outputs": [],
   "source": [
    "\n",
    "# ---------------------------------------------------------\n",
    "# Setup\n",
    "# ---------------------------------------------------------\n",
    "import os, re, ast, json, warnings\n",
    "import numpy as np\n",
    "import pandas as pd\n",
    "from pathlib import Path\n",
    "\n",
    "from sklearn.model_selection import train_test_split, StratifiedKFold, KFold, cross_val_score\n",
    "from sklearn.preprocessing import OneHotEncoder, StandardScaler\n",
    "from sklearn.compose import ColumnTransformer\n",
    "from sklearn.pipeline import Pipeline\n",
    "\n",
    "from sklearn.metrics import (mean_absolute_error, mean_squared_error, r2_score,\n",
    "                             accuracy_score, f1_score, roc_auc_score, confusion_matrix)\n",
    "\n",
    "from sklearn.linear_model import LinearRegression, LogisticRegression\n",
    "from sklearn.ensemble import (RandomForestRegressor, RandomForestClassifier,\n",
    "                              GradientBoostingRegressor, GradientBoostingClassifier)\n",
    "from sklearn.inspection import permutation_importance\n",
    "\n",
    "import matplotlib.pyplot as plt\n",
    "import seaborn as sns\n",
    "\n",
    "warnings.filterwarnings(\"ignore\")\n",
    "np.random.seed(42)\n",
    "\n",
    "FIG_DIR = Path(\"../reports/figures\"); FIG_DIR.mkdir(parents=True, exist_ok=True)\n",
    "REP_DIR = Path(\"../reports\"); REP_DIR.mkdir(parents=True, exist_ok=True)\n",
    "\n",
    "DATA_CSV_CANDIDATES = [\"../data/raw/zomato_df_final_data.csv\",\n",
    "                       \"data/raw/zomato_df_final_data.csv\",\n",
    "                       \"/mnt/data/zomato_df_final_data.csv\"]\n",
    "\n",
    "def existing(paths):\n",
    "    for p in paths:\n",
    "        if Path(p).exists():\n",
    "            return p\n",
    "    raise FileNotFoundError(paths)\n",
    "\n",
    "def parse_listish(x):\n",
    "    if pd.isna(x): return []\n",
    "    if isinstance(x, list): return [str(t).strip() for t in x if str(t).strip()]\n",
    "    s = str(x).strip()\n",
    "    try:\n",
    "        v = ast.literal_eval(s)\n",
    "        if isinstance(v, (list, tuple)):\n",
    "            return [str(t).strip() for t in v if str(t).strip()]\n",
    "    except Exception:\n",
    "        pass\n",
    "    return [t.strip() for t in re.split(r\",\\s*\", s) if t.strip()]\n"
   ]
  },
  {
   "cell_type": "markdown",
   "id": "eba0f6eb",
   "metadata": {},
   "source": [
    "## 1) Load & feature engineering"
   ]
  },
  {
   "cell_type": "code",
   "execution_count": 2,
   "id": "b8afbb33",
   "metadata": {
    "execution": {
     "iopub.execute_input": "2025-10-02T12:10:27.665052Z",
     "iopub.status.busy": "2025-10-02T12:10:27.664551Z",
     "iopub.status.idle": "2025-10-02T12:10:27.857132Z",
     "shell.execute_reply": "2025-10-02T12:10:27.857132Z"
    }
   },
   "outputs": [
    {
     "name": "stdout",
     "output_type": "stream",
     "text": [
      "Shapes — X_reg: (7080, 19) | X_clf: (7080, 18)\n",
      "Class balance: {0: 0.921, 1: 0.079}\n"
     ]
    }
   ],
   "source": [
    "\n",
    "csv_path = existing(DATA_CSV_CANDIDATES)\n",
    "df = pd.read_csv(csv_path).drop_duplicates().copy()\n",
    "\n",
    "# Light text normalization\n",
    "for c in df.select_dtypes(include=\"object\"):\n",
    "    df[c] = df[c].astype(str).str.strip()\n",
    "\n",
    "# Targets\n",
    "df[\"cost_final\"] = df[\"cost\"].fillna(df[\"cost_2\"])\n",
    "\n",
    "# Parse multi-valued fields\n",
    "df[\"cuisine_list\"] = df[\"cuisine\"].apply(parse_listish)\n",
    "df[\"type_list\"]    = df[\"type\"].apply(parse_listish)\n",
    "df[\"type_primary\"] = df[\"type_list\"].apply(lambda L: L[0] if L else np.nan)\n",
    "\n",
    "# Cuisine multi-hot (top 15)\n",
    "top_cuis = (pd.Series([c for L in df[\"cuisine_list\"] for c in L])\n",
    "            .value_counts().head(15).index.tolist())\n",
    "for c in top_cuis:\n",
    "    df[f\"cuisine__{c}\"] = df[\"cuisine_list\"].apply(lambda L: int(isinstance(L, list) and c.lower() in [t.lower() for t in L]))\n",
    "\n",
    "# Numeric cleanup\n",
    "df[\"votes\"] = pd.to_numeric(df[\"votes\"], errors=\"coerce\")\n",
    "df[\"rating_number\"] = pd.to_numeric(df[\"rating_number\"], errors=\"coerce\")\n",
    "\n",
    "# Rows needed for modelling\n",
    "df_model = df.dropna(subset=[\"votes\", \"rating_number\", \"cost_final\"]).copy()\n",
    "df_model[\"high_rating\"] = (df_model[\"rating_number\"] >= 4.0).astype(int)\n",
    "\n",
    "# Regression features include rating_number; classification features exclude it (avoid leakage)\n",
    "reg_feats = [\"votes\", \"rating_number\", \"type_primary\", \"subzone\"] + [c for c in df_model.columns if c.startswith(\"cuisine__\")]\n",
    "clf_feats = [\"votes\", \"type_primary\", \"subzone\"] + [c for c in df_model.columns if c.startswith(\"cuisine__\")]\n",
    "\n",
    "X_reg = df_model[reg_feats].copy(); y_reg = df_model[\"cost_final\"].astype(float)\n",
    "X_clf = df_model[clf_feats].copy(); y_clf = df_model[\"high_rating\"].astype(int)\n",
    "\n",
    "print(\"Shapes — X_reg:\", X_reg.shape, \"| X_clf:\", X_clf.shape)\n",
    "print(\"Class balance:\", y_clf.value_counts(normalize=True).round(3).to_dict())\n"
   ]
  },
  {
   "cell_type": "markdown",
   "id": "47118780",
   "metadata": {},
   "source": [
    "## 2) Preprocessing pipelines"
   ]
  },
  {
   "cell_type": "code",
   "execution_count": 3,
   "id": "778bc648",
   "metadata": {
    "execution": {
     "iopub.execute_input": "2025-10-02T12:10:27.858635Z",
     "iopub.status.busy": "2025-10-02T12:10:27.858635Z",
     "iopub.status.idle": "2025-10-02T12:10:27.862202Z",
     "shell.execute_reply": "2025-10-02T12:10:27.862202Z"
    }
   },
   "outputs": [],
   "source": [
    "\n",
    "num_features_reg = [\"votes\", \"rating_number\"]\n",
    "num_features_clf = [\"votes\"]\n",
    "\n",
    "bin_features_reg = [c for c in X_reg.columns if c.startswith(\"cuisine__\")]\n",
    "bin_features_clf = [c for c in X_clf.columns if c.startswith(\"cuisine__\")]\n",
    "\n",
    "cat_nominal_reg  = [\"type_primary\", \"subzone\"]\n",
    "cat_nominal_clf  = [\"type_primary\", \"subzone\"]\n",
    "\n",
    "preprocess_reg = ColumnTransformer([\n",
    "    (\"num\", StandardScaler(with_mean=False), num_features_reg),\n",
    "    (\"bin\", \"passthrough\", bin_features_reg),\n",
    "    (\"cat\", OneHotEncoder(handle_unknown=\"ignore\"), cat_nominal_reg),\n",
    "])\n",
    "\n",
    "preprocess_clf = ColumnTransformer([\n",
    "    (\"num\", StandardScaler(with_mean=False), num_features_clf),\n",
    "    (\"bin\", \"passthrough\", bin_features_clf),\n",
    "    (\"cat\", OneHotEncoder(handle_unknown=\"ignore\"), cat_nominal_clf),\n",
    "])\n"
   ]
  },
  {
   "cell_type": "markdown",
   "id": "7623e93e",
   "metadata": {},
   "source": [
    "## 3) Train/Test split"
   ]
  },
  {
   "cell_type": "code",
   "execution_count": 4,
   "id": "14b3896f",
   "metadata": {
    "execution": {
     "iopub.execute_input": "2025-10-02T12:10:27.863706Z",
     "iopub.status.busy": "2025-10-02T12:10:27.863206Z",
     "iopub.status.idle": "2025-10-02T12:10:27.869786Z",
     "shell.execute_reply": "2025-10-02T12:10:27.869786Z"
    }
   },
   "outputs": [],
   "source": [
    "\n",
    "X_train_reg, X_test_reg, y_train_reg, y_test_reg = train_test_split(\n",
    "    X_reg, y_reg, test_size=0.2, random_state=42\n",
    ")\n",
    "\n",
    "X_train_clf, X_test_clf, y_train_clf, y_test_clf = train_test_split(\n",
    "    X_clf, y_clf, test_size=0.2, random_state=42, stratify=y_clf\n",
    ")\n"
   ]
  },
  {
   "cell_type": "markdown",
   "id": "11fef855",
   "metadata": {},
   "source": [
    "## 4) Cross‑validation — Regression"
   ]
  },
  {
   "cell_type": "code",
   "execution_count": 5,
   "id": "8043823a",
   "metadata": {
    "execution": {
     "iopub.execute_input": "2025-10-02T12:10:27.871290Z",
     "iopub.status.busy": "2025-10-02T12:10:27.870790Z",
     "iopub.status.idle": "2025-10-02T12:10:47.502526Z",
     "shell.execute_reply": "2025-10-02T12:10:47.502526Z"
    }
   },
   "outputs": [
    {
     "data": {
      "text/html": [
       "<div>\n",
       "<style scoped>\n",
       "    .dataframe tbody tr th:only-of-type {\n",
       "        vertical-align: middle;\n",
       "    }\n",
       "\n",
       "    .dataframe tbody tr th {\n",
       "        vertical-align: top;\n",
       "    }\n",
       "\n",
       "    .dataframe thead th {\n",
       "        text-align: right;\n",
       "    }\n",
       "</style>\n",
       "<table border=\"1\" class=\"dataframe\">\n",
       "  <thead>\n",
       "    <tr style=\"text-align: right;\">\n",
       "      <th></th>\n",
       "      <th>model</th>\n",
       "      <th>cv_rmse_mean</th>\n",
       "      <th>cv_rmse_std</th>\n",
       "      <th>cv_mae_mean</th>\n",
       "      <th>cv_mae_std</th>\n",
       "    </tr>\n",
       "  </thead>\n",
       "  <tbody>\n",
       "    <tr>\n",
       "      <th>2</th>\n",
       "      <td>GradientBoosting</td>\n",
       "      <td>20.343600</td>\n",
       "      <td>1.083588</td>\n",
       "      <td>14.349001</td>\n",
       "      <td>0.459734</td>\n",
       "    </tr>\n",
       "    <tr>\n",
       "      <th>0</th>\n",
       "      <td>LinearRegression</td>\n",
       "      <td>20.533385</td>\n",
       "      <td>0.651936</td>\n",
       "      <td>14.878792</td>\n",
       "      <td>0.299953</td>\n",
       "    </tr>\n",
       "    <tr>\n",
       "      <th>1</th>\n",
       "      <td>RandomForest</td>\n",
       "      <td>20.966278</td>\n",
       "      <td>0.827404</td>\n",
       "      <td>14.675936</td>\n",
       "      <td>0.445140</td>\n",
       "    </tr>\n",
       "  </tbody>\n",
       "</table>\n",
       "</div>"
      ],
      "text/plain": [
       "              model  cv_rmse_mean  cv_rmse_std  cv_mae_mean  cv_mae_std\n",
       "2  GradientBoosting     20.343600     1.083588    14.349001    0.459734\n",
       "0  LinearRegression     20.533385     0.651936    14.878792    0.299953\n",
       "1      RandomForest     20.966278     0.827404    14.675936    0.445140"
      ]
     },
     "metadata": {},
     "output_type": "display_data"
    },
    {
     "name": "stdout",
     "output_type": "stream",
     "text": [
      "saved: ..\\reports\\regression_cv_results.csv\n"
     ]
    }
   ],
   "source": [
    "\n",
    "reg_models = {\n",
    "    \"LinearRegression\": LinearRegression(),\n",
    "    \"RandomForest\": RandomForestRegressor(n_estimators=300, random_state=42, n_jobs=-1),\n",
    "    \"GradientBoosting\": GradientBoostingRegressor(random_state=42)\n",
    "}\n",
    "\n",
    "cv = KFold(n_splits=5, shuffle=True, random_state=42)\n",
    "reg_results = []\n",
    "\n",
    "for name, est in reg_models.items():\n",
    "    pipe = Pipeline([(\"prep\", preprocess_reg), (\"model\", est)])\n",
    "    rmse = -cross_val_score(pipe, X_train_reg, y_train_reg, scoring=\"neg_root_mean_squared_error\", cv=cv, n_jobs=-1)\n",
    "    mae  = -cross_val_score(pipe, X_train_reg, y_train_reg, scoring=\"neg_mean_absolute_error\", cv=cv, n_jobs=-1)\n",
    "    reg_results.append({\"model\": name, \"cv_rmse_mean\": rmse.mean(), \"cv_rmse_std\": rmse.std(),\n",
    "                        \"cv_mae_mean\": mae.mean(), \"cv_mae_std\": mae.std()})\n",
    "reg_table = pd.DataFrame(reg_results).sort_values(\"cv_rmse_mean\")\n",
    "display(reg_table)\n",
    "reg_table.to_csv(REP_DIR / \"regression_cv_results.csv\", index=False)\n",
    "print(\"saved:\", REP_DIR / \"regression_cv_results.csv\")\n"
   ]
  },
  {
   "cell_type": "markdown",
   "id": "d066dd36",
   "metadata": {},
   "source": [
    "## 5) Test metrics — Regression (version‑safe)"
   ]
  },
  {
   "cell_type": "code",
   "execution_count": 6,
   "id": "bd5ccda2",
   "metadata": {
    "execution": {
     "iopub.execute_input": "2025-10-02T12:10:47.504530Z",
     "iopub.status.busy": "2025-10-02T12:10:47.504031Z",
     "iopub.status.idle": "2025-10-02T12:10:47.760638Z",
     "shell.execute_reply": "2025-10-02T12:10:47.760638Z"
    }
   },
   "outputs": [
    {
     "data": {
      "text/html": [
       "<div>\n",
       "<style scoped>\n",
       "    .dataframe tbody tr th:only-of-type {\n",
       "        vertical-align: middle;\n",
       "    }\n",
       "\n",
       "    .dataframe tbody tr th {\n",
       "        vertical-align: top;\n",
       "    }\n",
       "\n",
       "    .dataframe thead th {\n",
       "        text-align: right;\n",
       "    }\n",
       "</style>\n",
       "<table border=\"1\" class=\"dataframe\">\n",
       "  <thead>\n",
       "    <tr style=\"text-align: right;\">\n",
       "      <th></th>\n",
       "      <th>model</th>\n",
       "      <th>test_rmse</th>\n",
       "      <th>test_mae</th>\n",
       "      <th>test_r2</th>\n",
       "    </tr>\n",
       "  </thead>\n",
       "  <tbody>\n",
       "    <tr>\n",
       "      <th>0</th>\n",
       "      <td>GradientBoosting</td>\n",
       "      <td>21.495519</td>\n",
       "      <td>14.632224</td>\n",
       "      <td>0.523481</td>\n",
       "    </tr>\n",
       "  </tbody>\n",
       "</table>\n",
       "</div>"
      ],
      "text/plain": [
       "              model  test_rmse   test_mae   test_r2\n",
       "0  GradientBoosting  21.495519  14.632224  0.523481"
      ]
     },
     "metadata": {},
     "output_type": "display_data"
    },
    {
     "name": "stdout",
     "output_type": "stream",
     "text": [
      "saved: ..\\reports\\regression_test_results.csv\n"
     ]
    }
   ],
   "source": [
    "\n",
    "best_reg_name = reg_table.iloc[0][\"model\"]\n",
    "best_reg = reg_models[best_reg_name]\n",
    "\n",
    "pipe_reg = Pipeline([(\"prep\", preprocess_reg), (\"model\", best_reg)]).fit(X_train_reg, y_train_reg)\n",
    "pred = pipe_reg.predict(X_test_reg)\n",
    "\n",
    "# version‑safe RMSE\n",
    "mse  = mean_squared_error(y_test_reg, pred)\n",
    "rmse = float(np.sqrt(mse))\n",
    "mae  = mean_absolute_error(y_test_reg, pred)\n",
    "r2   = r2_score(y_test_reg, pred)\n",
    "\n",
    "test_row = pd.DataFrame([{\"model\": best_reg_name, \"test_rmse\": rmse, \"test_mae\": mae, \"test_r2\": r2}])\n",
    "display(test_row)\n",
    "test_row.to_csv(REP_DIR / \"regression_test_results.csv\", index=False)\n",
    "print(\"saved:\", REP_DIR / \"regression_test_results.csv\")\n"
   ]
  },
  {
   "cell_type": "markdown",
   "id": "62340abb",
   "metadata": {},
   "source": [
    "## 6) Cross‑validation — Classification (no leakage)"
   ]
  },
  {
   "cell_type": "code",
   "execution_count": 7,
   "id": "61658098",
   "metadata": {
    "execution": {
     "iopub.execute_input": "2025-10-02T12:10:47.762143Z",
     "iopub.status.busy": "2025-10-02T12:10:47.762143Z",
     "iopub.status.idle": "2025-10-02T12:10:50.320264Z",
     "shell.execute_reply": "2025-10-02T12:10:50.320264Z"
    }
   },
   "outputs": [
    {
     "data": {
      "text/html": [
       "<div>\n",
       "<style scoped>\n",
       "    .dataframe tbody tr th:only-of-type {\n",
       "        vertical-align: middle;\n",
       "    }\n",
       "\n",
       "    .dataframe tbody tr th {\n",
       "        vertical-align: top;\n",
       "    }\n",
       "\n",
       "    .dataframe thead th {\n",
       "        text-align: right;\n",
       "    }\n",
       "</style>\n",
       "<table border=\"1\" class=\"dataframe\">\n",
       "  <thead>\n",
       "    <tr style=\"text-align: right;\">\n",
       "      <th></th>\n",
       "      <th>model</th>\n",
       "      <th>cv_acc_mean</th>\n",
       "      <th>cv_acc_std</th>\n",
       "      <th>cv_f1_mean</th>\n",
       "      <th>cv_f1_std</th>\n",
       "    </tr>\n",
       "  </thead>\n",
       "  <tbody>\n",
       "    <tr>\n",
       "      <th>0</th>\n",
       "      <td>LogisticRegression</td>\n",
       "      <td>0.948269</td>\n",
       "      <td>0.003339</td>\n",
       "      <td>0.585507</td>\n",
       "      <td>0.038458</td>\n",
       "    </tr>\n",
       "    <tr>\n",
       "      <th>2</th>\n",
       "      <td>GradientBoosting</td>\n",
       "      <td>0.943856</td>\n",
       "      <td>0.004587</td>\n",
       "      <td>0.572437</td>\n",
       "      <td>0.033234</td>\n",
       "    </tr>\n",
       "    <tr>\n",
       "      <th>1</th>\n",
       "      <td>RandomForest</td>\n",
       "      <td>0.940148</td>\n",
       "      <td>0.004888</td>\n",
       "      <td>0.541796</td>\n",
       "      <td>0.043251</td>\n",
       "    </tr>\n",
       "  </tbody>\n",
       "</table>\n",
       "</div>"
      ],
      "text/plain": [
       "                model  cv_acc_mean  cv_acc_std  cv_f1_mean  cv_f1_std\n",
       "0  LogisticRegression     0.948269    0.003339    0.585507   0.038458\n",
       "2    GradientBoosting     0.943856    0.004587    0.572437   0.033234\n",
       "1        RandomForest     0.940148    0.004888    0.541796   0.043251"
      ]
     },
     "metadata": {},
     "output_type": "display_data"
    },
    {
     "name": "stdout",
     "output_type": "stream",
     "text": [
      "saved: ..\\reports\\classification_cv_results.csv\n"
     ]
    }
   ],
   "source": [
    "\n",
    "clf_models = {\n",
    "    \"LogisticRegression\": LogisticRegression(max_iter=200),\n",
    "    \"RandomForest\": RandomForestClassifier(n_estimators=300, random_state=42, n_jobs=-1),\n",
    "    \"GradientBoosting\": GradientBoostingClassifier(random_state=42)\n",
    "}\n",
    "\n",
    "cv_cls = StratifiedKFold(n_splits=5, shuffle=True, random_state=42)\n",
    "clf_results = []\n",
    "for name, est in clf_models.items():\n",
    "    pipe = Pipeline([(\"prep\", preprocess_clf), (\"model\", est)])\n",
    "    acc = cross_val_score(pipe, X_train_clf, y_train_clf, scoring=\"accuracy\", cv=cv_cls, n_jobs=-1)\n",
    "    f1  = cross_val_score(pipe, X_train_clf, y_train_clf, scoring=\"f1\", cv=cv_cls, n_jobs=-1)\n",
    "    clf_results.append({\"model\": name, \"cv_acc_mean\": acc.mean(), \"cv_acc_std\": acc.std(),\n",
    "                        \"cv_f1_mean\": f1.mean(), \"cv_f1_std\": f1.std()})\n",
    "clf_table = pd.DataFrame(clf_results).sort_values(\"cv_f1_mean\", ascending=False)\n",
    "display(clf_table)\n",
    "clf_table.to_csv(REP_DIR / \"classification_cv_results.csv\", index=False)\n",
    "print(\"saved:\", REP_DIR / \"classification_cv_results.csv\")\n"
   ]
  },
  {
   "cell_type": "markdown",
   "id": "93475d27",
   "metadata": {},
   "source": [
    "## 7) Test metrics — Classification"
   ]
  },
  {
   "cell_type": "code",
   "execution_count": 8,
   "id": "3b5d9f95",
   "metadata": {
    "execution": {
     "iopub.execute_input": "2025-10-02T12:10:50.321768Z",
     "iopub.status.busy": "2025-10-02T12:10:50.321768Z",
     "iopub.status.idle": "2025-10-02T12:10:50.474073Z",
     "shell.execute_reply": "2025-10-02T12:10:50.474073Z"
    }
   },
   "outputs": [
    {
     "data": {
      "text/html": [
       "<div>\n",
       "<style scoped>\n",
       "    .dataframe tbody tr th:only-of-type {\n",
       "        vertical-align: middle;\n",
       "    }\n",
       "\n",
       "    .dataframe tbody tr th {\n",
       "        vertical-align: top;\n",
       "    }\n",
       "\n",
       "    .dataframe thead th {\n",
       "        text-align: right;\n",
       "    }\n",
       "</style>\n",
       "<table border=\"1\" class=\"dataframe\">\n",
       "  <thead>\n",
       "    <tr style=\"text-align: right;\">\n",
       "      <th></th>\n",
       "      <th>model</th>\n",
       "      <th>test_acc</th>\n",
       "      <th>test_f1</th>\n",
       "      <th>test_auc</th>\n",
       "    </tr>\n",
       "  </thead>\n",
       "  <tbody>\n",
       "    <tr>\n",
       "      <th>0</th>\n",
       "      <td>LogisticRegression</td>\n",
       "      <td>0.943503</td>\n",
       "      <td>0.512195</td>\n",
       "      <td>0.948473</td>\n",
       "    </tr>\n",
       "  </tbody>\n",
       "</table>\n",
       "</div>"
      ],
      "text/plain": [
       "                model  test_acc   test_f1  test_auc\n",
       "0  LogisticRegression  0.943503  0.512195  0.948473"
      ]
     },
     "metadata": {},
     "output_type": "display_data"
    },
    {
     "name": "stdout",
     "output_type": "stream",
     "text": [
      "saved: ..\\reports\\classification_test_results.csv\n"
     ]
    },
    {
     "data": {
      "image/png": "[encoded data removed]",
      "text/plain": [
       "<Figure size 400x300 with 1 Axes>"
      ]
     },
     "metadata": {},
     "output_type": "display_data"
    }
   ],
   "source": [
    "\n",
    "best_clf_name = clf_table.iloc[0][\"model\"]\n",
    "best_clf = clf_models[best_clf_name]\n",
    "\n",
    "pipe_clf = Pipeline([(\"prep\", preprocess_clf), (\"model\", best_clf)]).fit(X_train_clf, y_train_clf)\n",
    "pred  = pipe_clf.predict(X_test_clf)\n",
    "proba = pipe_clf.predict_proba(X_test_clf)[:,1] if hasattr(pipe_clf, \"predict_proba\") else None\n",
    "\n",
    "acc = accuracy_score(y_test_clf, pred)\n",
    "f1  = f1_score(y_test_clf, pred)\n",
    "auc = roc_auc_score(y_test_clf, proba) if proba is not None else np.nan\n",
    "\n",
    "test_cls = pd.DataFrame([{\"model\": best_clf_name, \"test_acc\": acc, \"test_f1\": f1, \"test_auc\": auc}])\n",
    "display(test_cls)\n",
    "test_cls.to_csv(REP_DIR / \"classification_test_results.csv\", index=False)\n",
    "print(\"saved:\", REP_DIR / \"classification_test_results.csv\")\n",
    "\n",
    "cm = confusion_matrix(y_test_clf, pred)\n",
    "fig, ax = plt.subplots(figsize=(4,3))\n",
    "sns.heatmap(cm, annot=True, fmt=\"d\", cmap=\"Blues\", cbar=False, ax=ax)\n",
    "ax.set_xlabel(\"Predicted\"); ax.set_ylabel(\"True\"); ax.set_title(f\"Confusion Matrix — {best_clf_name}\")\n",
    "plt.tight_layout(); plt.savefig(FIG_DIR / \"classification_confusion_matrix.png\", dpi=300, bbox_inches=\"tight\"); plt.show()\n"
   ]
  },
  {
   "cell_type": "markdown",
   "id": "7f297882",
   "metadata": {},
   "source": [
    "## 8) Permutation importance & exports"
   ]
  },
  {
   "cell_type": "code",
   "execution_count": 9,
   "id": "6b4c6a96",
   "metadata": {
    "execution": {
     "iopub.execute_input": "2025-10-02T12:10:50.475582Z",
     "iopub.status.busy": "2025-10-02T12:10:50.475582Z",
     "iopub.status.idle": "2025-10-02T12:10:51.407484Z",
     "shell.execute_reply": "2025-10-02T12:10:51.407484Z"
    }
   },
   "outputs": [
    {
     "data": {
      "image/png": "[encoded data removed]",
      "text/plain": [
       "<Figure size 700x500 with 1 Axes>"
      ]
     },
     "metadata": {},
     "output_type": "display_data"
    },
    {
     "name": "stdout",
     "output_type": "stream",
     "text": [
      "saved: ..\\reports\\regression_feature_importance_full.csv\n",
      "saved: ..\\reports\\regression_feature_importance.csv\n"
     ]
    },
    {
     "data": {
      "image/png": "[encoded data removed]",
      "text/plain": [
       "<Figure size 700x500 with 1 Axes>"
      ]
     },
     "metadata": {},
     "output_type": "display_data"
    },
    {
     "name": "stdout",
     "output_type": "stream",
     "text": [
      "saved: ..\\reports\\classification_feature_importance_full.csv\n",
      "saved: ..\\reports\\classification_feature_importance.csv\n"
     ]
    }
   ],
   "source": [
    "from sklearn.inspection import permutation_importance\n",
    "import pandas as pd\n",
    "import matplotlib.pyplot as plt\n",
    "\n",
    "# ---------- helpers ----------\n",
    "def _safe_feature_names(X, prefix=\"feat\"):\n",
    "    \"\"\"Return raw feature names for X (DataFrame or ndarray).\"\"\"\n",
    "    if hasattr(X, \"columns\"):\n",
    "        return list(X.columns)\n",
    "    import numpy as np\n",
    "    return [f\"{prefix}_{i}\" for i in range(X.shape[1])]\n",
    "\n",
    "def _plot_top(series, title, out_png, color=\"#1f77b4\", topn=15):\n",
    "    top = series.sort_values(ascending=False).head(topn)\n",
    "    ax = top[::-1].plot(kind=\"barh\", figsize=(7,5), color=color)\n",
    "    ax.set_title(title)\n",
    "    ax.set_xlabel(\"Mean importance (permutation)\")\n",
    "    plt.tight_layout()\n",
    "    plt.savefig(out_png, dpi=300, bbox_inches=\"tight\")\n",
    "    plt.show()\n",
    "    return top\n",
    "\n",
    "# ---------- REGRESSION ----------\n",
    "pipe_reg.fit(X_train_reg, y_train_reg)\n",
    "\n",
    "fi_reg = permutation_importance(\n",
    "    pipe_reg, X_test_reg, y_test_reg,\n",
    "    n_repeats=10, random_state=42, n_jobs=-1\n",
    ")\n",
    "\n",
    "reg_raw_names = _safe_feature_names(X_test_reg, prefix=\"reg_feat\")\n",
    "reg_imp = pd.Series(fi_reg.importances_mean, index=reg_raw_names)\n",
    "\n",
    "top_reg = _plot_top(\n",
    "    reg_imp,\n",
    "    title=\"Permutation Importance — Regression (raw features, top 15)\",\n",
    "    out_png=FIG_DIR / \"regression_permutation_importance.png\",\n",
    "    color=\"#8c564b\",\n",
    "    topn=15\n",
    ")\n",
    "\n",
    "# Save full table (all features) and a top-15 convenience file\n",
    "reg_imp.rename(\"importance\").to_csv(REP_DIR / \"regression_feature_importance_full.csv\", index=True)\n",
    "top_reg.rename(\"importance\").to_csv(REP_DIR / \"regression_feature_importance.csv\", index=True)\n",
    "print(\"saved:\", REP_DIR / \"regression_feature_importance_full.csv\")\n",
    "print(\"saved:\", REP_DIR / \"regression_feature_importance.csv\")\n",
    "\n",
    "# ---------- CLASSIFICATION ----------\n",
    "pipe_clf.fit(X_train_clf, y_train_clf)\n",
    "\n",
    "fi_clf = permutation_importance(\n",
    "    pipe_clf, X_test_clf, y_test_clf,\n",
    "    n_repeats=10, random_state=42, n_jobs=-1\n",
    ")\n",
    "\n",
    "clf_raw_names = _safe_feature_names(X_test_clf, prefix=\"clf_feat\")\n",
    "clf_imp = pd.Series(fi_clf.importances_mean, index=clf_raw_names)\n",
    "\n",
    "top_clf = _plot_top(\n",
    "    clf_imp,\n",
    "    title=\"Permutation Importance — Classification (raw features, top 15)\",\n",
    "    out_png=FIG_DIR / \"classification_permutation_importance.png\",\n",
    "    color=\"#1f77b4\",\n",
    "    topn=15\n",
    ")\n",
    "\n",
    "clf_imp.rename(\"importance\").to_csv(REP_DIR / \"classification_feature_importance_full.csv\", index=True)\n",
    "top_clf.rename(\"importance\").to_csv(REP_DIR / \"classification_feature_importance.csv\", index=True)\n",
    "print(\"saved:\", REP_DIR / \"classification_feature_importance_full.csv\")\n",
    "print(\"saved:\", REP_DIR / \"classification_feature_importance.csv\")\n"
   ]
  },
  {
   "cell_type": "markdown",
   "id": "934e985d",
   "metadata": {},
   "source": [
    "## 9) Model cards"
   ]
  },
  {
   "cell_type": "code",
   "execution_count": 10,
   "id": "abb513ff",
   "metadata": {
    "execution": {
     "iopub.execute_input": "2025-10-02T12:10:51.408988Z",
     "iopub.status.busy": "2025-10-02T12:10:51.408988Z",
     "iopub.status.idle": "2025-10-02T12:10:51.415827Z",
     "shell.execute_reply": "2025-10-02T12:10:51.415827Z"
    }
   },
   "outputs": [
    {
     "name": "stdout",
     "output_type": "stream",
     "text": [
      "saved: ..\\reports\\model_cards.json\n"
     ]
    },
    {
     "data": {
      "text/plain": [
       "{'regression': {'best_model': 'GradientBoosting',\n",
       "  'model': 'GradientBoosting',\n",
       "  'test_rmse': 21.495518912111997,\n",
       "  'test_mae': 14.632223982158756,\n",
       "  'test_r2': 0.5234807898345275},\n",
       " 'classification': {'best_model': 'LogisticRegression',\n",
       "  'model': 'LogisticRegression',\n",
       "  'test_acc': 0.943502824858757,\n",
       "  'test_f1': 0.5121951219512195,\n",
       "  'test_auc': 0.948472610541576},\n",
       " 'n_samples': 7080,\n",
       " 'n_features_reg': 19,\n",
       " 'n_features_clf': 18,\n",
       " 'top_cuisines_engineered': ['Cafe',\n",
       "  'Modern Australian',\n",
       "  'Chinese',\n",
       "  'Italian',\n",
       "  'Pizza',\n",
       "  'Thai',\n",
       "  'Japanese',\n",
       "  'Asian',\n",
       "  'Burger',\n",
       "  'Indian',\n",
       "  'Seafood',\n",
       "  'Vietnamese',\n",
       "  'Sushi',\n",
       "  'Pub Food',\n",
       "  'Bar Food']}"
      ]
     },
     "execution_count": 10,
     "metadata": {},
     "output_type": "execute_result"
    }
   ],
   "source": [
    "\n",
    "summary = {\n",
    "    \"regression\": {\"best_model\": reg_table.iloc[0][\"model\"],\n",
    "                   **pd.read_csv(REP_DIR / \"regression_test_results.csv\").iloc[0].to_dict()},\n",
    "    \"classification\": {\"best_model\": clf_table.iloc[0][\"model\"],\n",
    "                        **pd.read_csv(REP_DIR / \"classification_test_results.csv\").iloc[0].to_dict()},\n",
    "    \"n_samples\": int(len(df_model)),\n",
    "    \"n_features_reg\": int(X_reg.shape[1]),\n",
    "    \"n_features_clf\": int(X_clf.shape[1]),\n",
    "    \"top_cuisines_engineered\": list(top_cuis)\n",
    "}\n",
    "with open(REP_DIR / \"model_cards.json\", \"w\", encoding=\"utf-8\") as f:\n",
    "    json.dump(summary, f, indent=2)\n",
    "print(\"saved:\", REP_DIR / \"model_cards.json\"); summary\n"
   ]
  }
 ],
 "metadata": {
  "kernelspec": {
   "display_name": "Python 3",
   "language": "python",
   "name": "python3"
  },
  "language_info": {
   "codemirror_mode": {
    "name": "ipython",
    "version": 3
   },
   "file_extension": ".py",
   "mimetype": "text/x-python",
   "name": "python",
   "nbconvert_exporter": "python",
   "pygments_lexer": "ipython3",
   "version": "3.11.9"
  }
 },
 "nbformat": 4,
 "nbformat_minor": 5
}
